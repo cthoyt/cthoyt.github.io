{
 "cells": [
  {
   "cell_type": "code",
   "execution_count": 8,
   "id": "4897d66f-1d2c-43c2-a991-6f229cd37fd5",
   "metadata": {},
   "outputs": [],
   "source": [
    "import click\n",
    "import pystow\n",
    "import rdflib\n",
    "import sssom\n",
    "from curies.dataframe import filter_df_by_prefixes\n",
    "from tabulate import tabulate\n",
    "from biomappings.resources import POSITIVES_SSSOM_PATH\n",
    "import bioregistry\n",
    "import pyobo\n",
    "from SPARQLWrapper import SPARQLWrapper, JSON\n",
    "from rdflib import SKOS"
   ]
  },
  {
   "cell_type": "code",
   "execution_count": 2,
   "id": "a665bae3-a13e-44a5-a9c9-99d99ab3f618",
   "metadata": {},
   "outputs": [
    {
     "name": "stdout",
     "output_type": "stream",
     "text": [
      "[a rdfg:Graph;rdflib:storage [a rdflib:Store;rdfs:label 'Memory']].\n"
     ]
    }
   ],
   "source": [
    "path = pystow.join(\"nfdi\", name=\"chem-culture.sssom.ttl\")\n",
    "if not path.is_file() and False:\n",
    "    msdf = sssom.parse_sssom_table(POSITIVES_SSSOM_PATH, prefix_map=bioregistry.get_default_converter())\n",
    "    # only keep iconclass mappings\n",
    "    msdf.df = filter_df_by_prefixes(msdf.df, column=\"subject_id\", prefixes=[\"iconclass\"])\n",
    "    sssom.write_rdf(msdf, path, hydrate=True)\n",
    "\n",
    "graph = rdflib.Graph()\n",
    "graph.parse(path)\n",
    "\n",
    "print(graph)"
   ]
  },
  {
   "cell_type": "code",
   "execution_count": 11,
   "id": "477d291a-9ff6-4f53-9a26-3f10d1dc6ffc",
   "metadata": {},
   "outputs": [
    {
     "name": "stdout",
     "output_type": "stream",
     "text": [
      "24C31 the sun representing gold chebi:29287 gold atom\n",
      "11H%28ANTONY%20ABBOT%29411 St. Antony Abbot finds a nugget of gold in the desert chebi:29287 gold atom\n",
      "22C4%28GOLD%29 colours, pigments, and paints: gold chebi:29287 gold atom\n",
      "25D13%28GOLD%29 minerals and metals: gold chebi:29287 gold atom\n",
      "46B332 weighing gold or money chebi:29287 gold atom\n",
      "49E3911 alchemist trying to make gold chebi:29287 gold atom\n",
      "71I423 Hiram sends gold to Solomon chebi:29287 gold atom\n",
      "94E231 gold is found in Palamedes' tent chebi:29287 gold atom\n",
      "94G42 Hector's body is weighed in gold (Aeschylus) chebi:29287 gold atom\n",
      "24C32 the moon representing silver chebi:30512 silver atom\n",
      "25D13%28SILVER%29 minerals and metals: silver chebi:30512 silver atom\n",
      "71C13211 Abraham weighs out four hundred pieces of silver chebi:30512 silver atom\n",
      "71D1252 Joseph is sold for twenty pieces of silver chebi:30512 silver atom\n",
      "71D191 Joseph has his silver cup placed in Benjamin's sack chebi:30512 silver atom\n",
      "24C33 Mercury representing the metal mercury chebi:25195 mercury atom\n",
      "25D13%28MERCURY%29 minerals and metals: mercury chebi:25195 mercury atom\n",
      "49E3942 Mercury ~ alchemistic substance chebi:25195 mercury atom\n",
      "24C34 Venus representing copper chebi:28694 copper atom\n",
      "25D13%28COPPER%29 minerals and metals: copper chebi:28694 copper atom\n",
      "48A98k6121 copper ~ ornaments chebi:28694 copper atom\n",
      "48k6121 copper ~ arts chebi:28694 copper atom\n",
      "24C35 Mars representing iron chebi:18248 iron atom\n",
      "25D13%28IRON%29 minerals and metals: iron chebi:18248 iron atom\n",
      "24C36 Jupiter representing tin chebi:27007 tin atom\n",
      "25D13%28TIN%29 minerals and metals: tin chebi:27007 tin atom\n",
      "25D13%28SULPHUR%29 minerals and metals: sulphur chebi:26833 sulfur atom\n",
      "49E3941 Sulphur ~ alchemistic substance chebi:26833 sulfur atom\n",
      "41B14 extinguishing a fire chmo:0010008 fire extinguisher\n",
      "41B52 fire-extinguishing equipment chmo:0010008 fire extinguisher\n",
      "41B524 chemical fire-extinguishing apparatus chmo:0010008 fire extinguisher\n",
      "41D2321 apron obi:0002797 apron\n",
      "46B33 weighing chmo:0002827 weighing\n",
      "46B331 weighing-instruments chmo:0002827 weighing\n",
      "47C1211 preparing of material by melting chmo:0001682 sample melting\n",
      "47C124 preparing of material by drying chmo:0001549 sample drying\n",
      "47C61 mixing (industrial process) chmo:0001685 mixing\n",
      "47C621 shaping in a mould (industrial process) chmo:0001427 moulding\n",
      "48A98k6123 zinc ~ ornaments chebi:27363 zinc atom\n",
      "48k6123 zinc ~ arts chebi:27363 zinc atom\n",
      "48C3522 etching chmo:0001558 etching\n",
      "49D521 measuring-instruments obi:0000832 measurement device\n",
      "49E39542 evaporation of solvent chmo:0002208 solvent evaporation\n",
      "49G354 transplantation ~ surgery obi:0000105 transplantation\n",
      "49G37 injection ~ medicine obi:0000426 injection\n",
      "49G621 dissection chmo:0001528 dissection\n",
      "49G831 pestle and mortar obi:0003707 mortar and pestle device\n",
      "11H%28ANTONY%20ABBOT%29411 St. Antony Abbot finds a nugget of gold in the desert chebi:30050 gold(0)\n",
      "22C4%28GOLD%29 colours, pigments, and paints: gold chebi:30050 gold(0)\n",
      "25D13%28GOLD%29 minerals and metals: gold chebi:30050 gold(0)\n",
      "46B332 weighing gold or money chebi:30050 gold(0)\n",
      "49E3911 alchemist trying to make gold chebi:30050 gold(0)\n",
      "71I423 Hiram sends gold to Solomon chebi:30050 gold(0)\n",
      "94E231 gold is found in Palamedes' tent chebi:30050 gold(0)\n",
      "94G42 Hector's body is weighed in gold (Aeschylus) chebi:30050 gold(0)\n",
      "46B331 weighing-instruments obi:0001135 balance\n",
      "49E2512 microscope chmo:0000953 microscope\n",
      "49E2512 microscope obi:0400169 microscope\n"
     ]
    }
   ],
   "source": [
    "for iconclass_uri, object_uri in graph.subject_objects(SKOS.relatedMatch):\n",
    "    iconclass_reference = bioregistry.parse_iri(iconclass_uri, strict=True)\n",
    "    iconclass_name = pyobo.get_name(iconclass_reference)\n",
    "    object_reference = bioregistry.parse_iri(object_uri, strict=True)\n",
    "    object_name = pyobo.get_name(object_reference)\n",
    "    print(iconclass_reference.identifier, iconclass_name, object_reference.curie, object_name)\n"
   ]
  },
  {
   "cell_type": "markdown",
   "id": "85e9fc96-14ca-41c4-9009-cce3773bc36a",
   "metadata": {},
   "source": [
    "Demonstrate doing a tiny query over the NFDI4Culture Graph"
   ]
  },
  {
   "cell_type": "code",
   "execution_count": 4,
   "id": "574737d1-3d50-4cf0-815c-9539201aa4b2",
   "metadata": {},
   "outputs": [
    {
     "name": "stdout",
     "output_type": "stream",
     "text": [
      "{'head': {'link': [], 'vars': ['resource', 'iconclass', 'resourceLabel']}, 'results': {'distinct': False, 'ordered': True, 'bindings': [{'resource': {'type': 'uri', 'value': 'http://www.bildindex.de/document/obj00000008'}, 'iconclass': {'type': 'uri', 'value': 'https://iconclass.org/25F62%28Herring%29'}, 'resourceLabel': {'type': 'literal', 'xml:lang': 'de', 'value': 'Lob des Herings'}}, {'resource': {'type': 'uri', 'value': 'http://www.bildindex.de/document/obj00000008'}, 'iconclass': {'type': 'uri', 'value': 'https://iconclass.org/41C6'}, 'resourceLabel': {'type': 'literal', 'xml:lang': 'de', 'value': 'Lob des Herings'}}, {'resource': {'type': 'uri', 'value': 'http://www.bildindex.de/document/obj00000008'}, 'iconclass': {'type': 'uri', 'value': 'https://iconclass.org/49MM32'}, 'resourceLabel': {'type': 'literal', 'xml:lang': 'de', 'value': 'Lob des Herings'}}, {'resource': {'type': 'uri', 'value': 'http://www.bildindex.de/document/obj00000008'}, 'iconclass': {'type': 'uri', 'value': 'https://iconclass.org/41E'}, 'resourceLabel': {'type': 'literal', 'xml:lang': 'de', 'value': 'Lob des Herings'}}, {'resource': {'type': 'uri', 'value': 'http://www.bildindex.de/document/obj00000008'}, 'iconclass': {'type': 'uri', 'value': 'https://iconclass.org/61B2%28Westerbaen%2C%20Jan%293'}, 'resourceLabel': {'type': 'literal', 'xml:lang': 'de', 'value': 'Lob des Herings'}}]}}\n"
     ]
    }
   ],
   "source": [
    "sparql_wrapper = SPARQLWrapper(\"https://nfdi4culture.de/sparql\")\n",
    "sparql_wrapper.setReturnFormat(JSON)\n",
    "sparql_wrapper.setQuery(\"\"\"\n",
    "    PREFIX cto: <https://nfdi4culture.de/ontology#>\n",
    "    SELECT *\n",
    "    WHERE {\n",
    "      ?resource cto:subjectConcept ?iconclass .\n",
    "      OPTIONAL { ?resource rdfs:label ?resourceLabel . }\n",
    "    }\n",
    "    LIMIT 5\n",
    "    \"\"\"\n",
    ")\n",
    "print(sparql_wrapper.queryAndConvert())"
   ]
  },
  {
   "cell_type": "code",
   "execution_count": 5,
   "id": "ca4f33c7-c0f2-41fd-84fc-c6dc2ce563a9",
   "metadata": {},
   "outputs": [
    {
     "ename": "URLError",
     "evalue": "<urlopen error [Errno 61] Connection refused>",
     "output_type": "error",
     "traceback": [
      "\u001b[0;31m---------------------------------------------------------------------------\u001b[0m",
      "\u001b[0;31mConnectionRefusedError\u001b[0m                    Traceback (most recent call last)",
      "File \u001b[0;32m/opt/homebrew/Cellar/python@3.12/3.12.11/Frameworks/Python.framework/Versions/3.12/lib/python3.12/urllib/request.py:1344\u001b[0m, in \u001b[0;36mAbstractHTTPHandler.do_open\u001b[0;34m(self, http_class, req, **http_conn_args)\u001b[0m\n\u001b[1;32m   1343\u001b[0m \u001b[38;5;28;01mtry\u001b[39;00m:\n\u001b[0;32m-> 1344\u001b[0m     \u001b[43mh\u001b[49m\u001b[38;5;241;43m.\u001b[39;49m\u001b[43mrequest\u001b[49m\u001b[43m(\u001b[49m\u001b[43mreq\u001b[49m\u001b[38;5;241;43m.\u001b[39;49m\u001b[43mget_method\u001b[49m\u001b[43m(\u001b[49m\u001b[43m)\u001b[49m\u001b[43m,\u001b[49m\u001b[43m \u001b[49m\u001b[43mreq\u001b[49m\u001b[38;5;241;43m.\u001b[39;49m\u001b[43mselector\u001b[49m\u001b[43m,\u001b[49m\u001b[43m \u001b[49m\u001b[43mreq\u001b[49m\u001b[38;5;241;43m.\u001b[39;49m\u001b[43mdata\u001b[49m\u001b[43m,\u001b[49m\u001b[43m \u001b[49m\u001b[43mheaders\u001b[49m\u001b[43m,\u001b[49m\n\u001b[1;32m   1345\u001b[0m \u001b[43m              \u001b[49m\u001b[43mencode_chunked\u001b[49m\u001b[38;5;241;43m=\u001b[39;49m\u001b[43mreq\u001b[49m\u001b[38;5;241;43m.\u001b[39;49m\u001b[43mhas_header\u001b[49m\u001b[43m(\u001b[49m\u001b[38;5;124;43m'\u001b[39;49m\u001b[38;5;124;43mTransfer-encoding\u001b[39;49m\u001b[38;5;124;43m'\u001b[39;49m\u001b[43m)\u001b[49m\u001b[43m)\u001b[49m\n\u001b[1;32m   1346\u001b[0m \u001b[38;5;28;01mexcept\u001b[39;00m \u001b[38;5;167;01mOSError\u001b[39;00m \u001b[38;5;28;01mas\u001b[39;00m err: \u001b[38;5;66;03m# timeout error\u001b[39;00m\n",
      "File \u001b[0;32m/opt/homebrew/Cellar/python@3.12/3.12.11/Frameworks/Python.framework/Versions/3.12/lib/python3.12/http/client.py:1338\u001b[0m, in \u001b[0;36mHTTPConnection.request\u001b[0;34m(self, method, url, body, headers, encode_chunked)\u001b[0m\n\u001b[1;32m   1337\u001b[0m \u001b[38;5;250m\u001b[39m\u001b[38;5;124;03m\"\"\"Send a complete request to the server.\"\"\"\u001b[39;00m\n\u001b[0;32m-> 1338\u001b[0m \u001b[38;5;28;43mself\u001b[39;49m\u001b[38;5;241;43m.\u001b[39;49m\u001b[43m_send_request\u001b[49m\u001b[43m(\u001b[49m\u001b[43mmethod\u001b[49m\u001b[43m,\u001b[49m\u001b[43m \u001b[49m\u001b[43murl\u001b[49m\u001b[43m,\u001b[49m\u001b[43m \u001b[49m\u001b[43mbody\u001b[49m\u001b[43m,\u001b[49m\u001b[43m \u001b[49m\u001b[43mheaders\u001b[49m\u001b[43m,\u001b[49m\u001b[43m \u001b[49m\u001b[43mencode_chunked\u001b[49m\u001b[43m)\u001b[49m\n",
      "File \u001b[0;32m/opt/homebrew/Cellar/python@3.12/3.12.11/Frameworks/Python.framework/Versions/3.12/lib/python3.12/http/client.py:1384\u001b[0m, in \u001b[0;36mHTTPConnection._send_request\u001b[0;34m(self, method, url, body, headers, encode_chunked)\u001b[0m\n\u001b[1;32m   1383\u001b[0m     body \u001b[38;5;241m=\u001b[39m _encode(body, \u001b[38;5;124m'\u001b[39m\u001b[38;5;124mbody\u001b[39m\u001b[38;5;124m'\u001b[39m)\n\u001b[0;32m-> 1384\u001b[0m \u001b[38;5;28;43mself\u001b[39;49m\u001b[38;5;241;43m.\u001b[39;49m\u001b[43mendheaders\u001b[49m\u001b[43m(\u001b[49m\u001b[43mbody\u001b[49m\u001b[43m,\u001b[49m\u001b[43m \u001b[49m\u001b[43mencode_chunked\u001b[49m\u001b[38;5;241;43m=\u001b[39;49m\u001b[43mencode_chunked\u001b[49m\u001b[43m)\u001b[49m\n",
      "File \u001b[0;32m/opt/homebrew/Cellar/python@3.12/3.12.11/Frameworks/Python.framework/Versions/3.12/lib/python3.12/http/client.py:1333\u001b[0m, in \u001b[0;36mHTTPConnection.endheaders\u001b[0;34m(self, message_body, encode_chunked)\u001b[0m\n\u001b[1;32m   1332\u001b[0m     \u001b[38;5;28;01mraise\u001b[39;00m CannotSendHeader()\n\u001b[0;32m-> 1333\u001b[0m \u001b[38;5;28;43mself\u001b[39;49m\u001b[38;5;241;43m.\u001b[39;49m\u001b[43m_send_output\u001b[49m\u001b[43m(\u001b[49m\u001b[43mmessage_body\u001b[49m\u001b[43m,\u001b[49m\u001b[43m \u001b[49m\u001b[43mencode_chunked\u001b[49m\u001b[38;5;241;43m=\u001b[39;49m\u001b[43mencode_chunked\u001b[49m\u001b[43m)\u001b[49m\n",
      "File \u001b[0;32m/opt/homebrew/Cellar/python@3.12/3.12.11/Frameworks/Python.framework/Versions/3.12/lib/python3.12/http/client.py:1093\u001b[0m, in \u001b[0;36mHTTPConnection._send_output\u001b[0;34m(self, message_body, encode_chunked)\u001b[0m\n\u001b[1;32m   1092\u001b[0m \u001b[38;5;28;01mdel\u001b[39;00m \u001b[38;5;28mself\u001b[39m\u001b[38;5;241m.\u001b[39m_buffer[:]\n\u001b[0;32m-> 1093\u001b[0m \u001b[38;5;28;43mself\u001b[39;49m\u001b[38;5;241;43m.\u001b[39;49m\u001b[43msend\u001b[49m\u001b[43m(\u001b[49m\u001b[43mmsg\u001b[49m\u001b[43m)\u001b[49m\n\u001b[1;32m   1095\u001b[0m \u001b[38;5;28;01mif\u001b[39;00m message_body \u001b[38;5;129;01mis\u001b[39;00m \u001b[38;5;129;01mnot\u001b[39;00m \u001b[38;5;28;01mNone\u001b[39;00m:\n\u001b[1;32m   1096\u001b[0m \n\u001b[1;32m   1097\u001b[0m     \u001b[38;5;66;03m# create a consistent interface to message_body\u001b[39;00m\n",
      "File \u001b[0;32m/opt/homebrew/Cellar/python@3.12/3.12.11/Frameworks/Python.framework/Versions/3.12/lib/python3.12/http/client.py:1037\u001b[0m, in \u001b[0;36mHTTPConnection.send\u001b[0;34m(self, data)\u001b[0m\n\u001b[1;32m   1036\u001b[0m \u001b[38;5;28;01mif\u001b[39;00m \u001b[38;5;28mself\u001b[39m\u001b[38;5;241m.\u001b[39mauto_open:\n\u001b[0;32m-> 1037\u001b[0m     \u001b[38;5;28;43mself\u001b[39;49m\u001b[38;5;241;43m.\u001b[39;49m\u001b[43mconnect\u001b[49m\u001b[43m(\u001b[49m\u001b[43m)\u001b[49m\n\u001b[1;32m   1038\u001b[0m \u001b[38;5;28;01melse\u001b[39;00m:\n",
      "File \u001b[0;32m/opt/homebrew/Cellar/python@3.12/3.12.11/Frameworks/Python.framework/Versions/3.12/lib/python3.12/http/client.py:1003\u001b[0m, in \u001b[0;36mHTTPConnection.connect\u001b[0;34m(self)\u001b[0m\n\u001b[1;32m   1002\u001b[0m sys\u001b[38;5;241m.\u001b[39maudit(\u001b[38;5;124m\"\u001b[39m\u001b[38;5;124mhttp.client.connect\u001b[39m\u001b[38;5;124m\"\u001b[39m, \u001b[38;5;28mself\u001b[39m, \u001b[38;5;28mself\u001b[39m\u001b[38;5;241m.\u001b[39mhost, \u001b[38;5;28mself\u001b[39m\u001b[38;5;241m.\u001b[39mport)\n\u001b[0;32m-> 1003\u001b[0m \u001b[38;5;28mself\u001b[39m\u001b[38;5;241m.\u001b[39msock \u001b[38;5;241m=\u001b[39m \u001b[38;5;28;43mself\u001b[39;49m\u001b[38;5;241;43m.\u001b[39;49m\u001b[43m_create_connection\u001b[49m\u001b[43m(\u001b[49m\n\u001b[1;32m   1004\u001b[0m \u001b[43m    \u001b[49m\u001b[43m(\u001b[49m\u001b[38;5;28;43mself\u001b[39;49m\u001b[38;5;241;43m.\u001b[39;49m\u001b[43mhost\u001b[49m\u001b[43m,\u001b[49m\u001b[38;5;28;43mself\u001b[39;49m\u001b[38;5;241;43m.\u001b[39;49m\u001b[43mport\u001b[49m\u001b[43m)\u001b[49m\u001b[43m,\u001b[49m\u001b[43m \u001b[49m\u001b[38;5;28;43mself\u001b[39;49m\u001b[38;5;241;43m.\u001b[39;49m\u001b[43mtimeout\u001b[49m\u001b[43m,\u001b[49m\u001b[43m \u001b[49m\u001b[38;5;28;43mself\u001b[39;49m\u001b[38;5;241;43m.\u001b[39;49m\u001b[43msource_address\u001b[49m\u001b[43m)\u001b[49m\n\u001b[1;32m   1005\u001b[0m \u001b[38;5;66;03m# Might fail in OSs that don't implement TCP_NODELAY\u001b[39;00m\n",
      "File \u001b[0;32m/opt/homebrew/Cellar/python@3.12/3.12.11/Frameworks/Python.framework/Versions/3.12/lib/python3.12/socket.py:865\u001b[0m, in \u001b[0;36mcreate_connection\u001b[0;34m(address, timeout, source_address, all_errors)\u001b[0m\n\u001b[1;32m    864\u001b[0m \u001b[38;5;28;01mif\u001b[39;00m \u001b[38;5;129;01mnot\u001b[39;00m all_errors:\n\u001b[0;32m--> 865\u001b[0m     \u001b[38;5;28;01mraise\u001b[39;00m exceptions[\u001b[38;5;241m0\u001b[39m]\n\u001b[1;32m    866\u001b[0m \u001b[38;5;28;01mraise\u001b[39;00m ExceptionGroup(\u001b[38;5;124m\"\u001b[39m\u001b[38;5;124mcreate_connection failed\u001b[39m\u001b[38;5;124m\"\u001b[39m, exceptions)\n",
      "File \u001b[0;32m/opt/homebrew/Cellar/python@3.12/3.12.11/Frameworks/Python.framework/Versions/3.12/lib/python3.12/socket.py:850\u001b[0m, in \u001b[0;36mcreate_connection\u001b[0;34m(address, timeout, source_address, all_errors)\u001b[0m\n\u001b[1;32m    849\u001b[0m     sock\u001b[38;5;241m.\u001b[39mbind(source_address)\n\u001b[0;32m--> 850\u001b[0m \u001b[43msock\u001b[49m\u001b[38;5;241;43m.\u001b[39;49m\u001b[43mconnect\u001b[49m\u001b[43m(\u001b[49m\u001b[43msa\u001b[49m\u001b[43m)\u001b[49m\n\u001b[1;32m    851\u001b[0m \u001b[38;5;66;03m# Break explicitly a reference cycle\u001b[39;00m\n",
      "\u001b[0;31mConnectionRefusedError\u001b[0m: [Errno 61] Connection refused",
      "\nDuring handling of the above exception, another exception occurred:\n",
      "\u001b[0;31mURLError\u001b[0m                                  Traceback (most recent call last)",
      "Cell \u001b[0;32mIn[5], line 19\u001b[0m\n\u001b[1;32m      2\u001b[0m sparql_wrapper\u001b[38;5;241m.\u001b[39msetReturnFormat(JSON)\n\u001b[1;32m      3\u001b[0m sparql_wrapper\u001b[38;5;241m.\u001b[39msetQuery(\u001b[38;5;124m\"\"\"\u001b[39m\n\u001b[1;32m      4\u001b[0m \u001b[38;5;124m    PREFIX cto: <https://nfdi4culture.de/ontology#>\u001b[39m\n\u001b[1;32m      5\u001b[0m \u001b[38;5;124m    PREFIX skos: <http://www.w3.org/2004/02/skos/core#>\u001b[39m\n\u001b[0;32m   (...)\u001b[0m\n\u001b[1;32m     17\u001b[0m \u001b[38;5;124m    \u001b[39m\u001b[38;5;124m\"\"\"\u001b[39m\n\u001b[1;32m     18\u001b[0m )\n\u001b[0;32m---> 19\u001b[0m \u001b[38;5;28mprint\u001b[39m(\u001b[43msparql_wrapper\u001b[49m\u001b[38;5;241;43m.\u001b[39;49m\u001b[43mqueryAndConvert\u001b[49m\u001b[43m(\u001b[49m\u001b[43m)\u001b[49m)\n",
      "File \u001b[0;32m~/.virtualenvs/biopragmatics/lib/python3.12/site-packages/SPARQLWrapper/Wrapper.py:967\u001b[0m, in \u001b[0;36mSPARQLWrapper.queryAndConvert\u001b[0;34m(self)\u001b[0m\n\u001b[1;32m    962\u001b[0m \u001b[38;5;28;01mdef\u001b[39;00m \u001b[38;5;21mqueryAndConvert\u001b[39m(\u001b[38;5;28mself\u001b[39m) \u001b[38;5;241m-\u001b[39m\u001b[38;5;241m>\u001b[39m \u001b[38;5;124m\"\u001b[39m\u001b[38;5;124mQueryResult.ConvertResult\u001b[39m\u001b[38;5;124m\"\u001b[39m:\n\u001b[1;32m    963\u001b[0m \u001b[38;5;250m    \u001b[39m\u001b[38;5;124;03m\"\"\"Macro like method: issue a query and return the converted results.\u001b[39;00m\n\u001b[1;32m    964\u001b[0m \n\u001b[1;32m    965\u001b[0m \u001b[38;5;124;03m    :return: the converted query result. See the conversion methods for more details.\u001b[39;00m\n\u001b[1;32m    966\u001b[0m \u001b[38;5;124;03m    \"\"\"\u001b[39;00m\n\u001b[0;32m--> 967\u001b[0m     res \u001b[38;5;241m=\u001b[39m \u001b[38;5;28;43mself\u001b[39;49m\u001b[38;5;241;43m.\u001b[39;49m\u001b[43mquery\u001b[49m\u001b[43m(\u001b[49m\u001b[43m)\u001b[49m\n\u001b[1;32m    968\u001b[0m     \u001b[38;5;28;01mreturn\u001b[39;00m res\u001b[38;5;241m.\u001b[39mconvert()\n",
      "File \u001b[0;32m~/.virtualenvs/biopragmatics/lib/python3.12/site-packages/SPARQLWrapper/Wrapper.py:960\u001b[0m, in \u001b[0;36mSPARQLWrapper.query\u001b[0;34m(self)\u001b[0m\n\u001b[1;32m    942\u001b[0m \u001b[38;5;28;01mdef\u001b[39;00m \u001b[38;5;21mquery\u001b[39m(\u001b[38;5;28mself\u001b[39m) \u001b[38;5;241m-\u001b[39m\u001b[38;5;241m>\u001b[39m \u001b[38;5;124m\"\u001b[39m\u001b[38;5;124mQueryResult\u001b[39m\u001b[38;5;124m\"\u001b[39m:\n\u001b[1;32m    943\u001b[0m \u001b[38;5;250m    \u001b[39m\u001b[38;5;124;03m\"\"\"\u001b[39;00m\n\u001b[1;32m    944\u001b[0m \u001b[38;5;124;03m    Execute the query.\u001b[39;00m\n\u001b[1;32m    945\u001b[0m \u001b[38;5;124;03m    Exceptions can be raised if either the URI is wrong or the HTTP sends back an error (this is also the\u001b[39;00m\n\u001b[0;32m   (...)\u001b[0m\n\u001b[1;32m    958\u001b[0m \u001b[38;5;124;03m    :rtype: :class:`QueryResult` instance\u001b[39;00m\n\u001b[1;32m    959\u001b[0m \u001b[38;5;124;03m    \"\"\"\u001b[39;00m\n\u001b[0;32m--> 960\u001b[0m     \u001b[38;5;28;01mreturn\u001b[39;00m QueryResult(\u001b[38;5;28;43mself\u001b[39;49m\u001b[38;5;241;43m.\u001b[39;49m\u001b[43m_query\u001b[49m\u001b[43m(\u001b[49m\u001b[43m)\u001b[49m)\n",
      "File \u001b[0;32m~/.virtualenvs/biopragmatics/lib/python3.12/site-packages/SPARQLWrapper/Wrapper.py:926\u001b[0m, in \u001b[0;36mSPARQLWrapper._query\u001b[0;34m(self)\u001b[0m\n\u001b[1;32m    924\u001b[0m         response \u001b[38;5;241m=\u001b[39m urlopener(request, timeout\u001b[38;5;241m=\u001b[39m\u001b[38;5;28mself\u001b[39m\u001b[38;5;241m.\u001b[39mtimeout)\n\u001b[1;32m    925\u001b[0m     \u001b[38;5;28;01melse\u001b[39;00m:\n\u001b[0;32m--> 926\u001b[0m         response \u001b[38;5;241m=\u001b[39m \u001b[43murlopener\u001b[49m\u001b[43m(\u001b[49m\u001b[43mrequest\u001b[49m\u001b[43m)\u001b[49m\n\u001b[1;32m    927\u001b[0m     \u001b[38;5;28;01mreturn\u001b[39;00m response, \u001b[38;5;28mself\u001b[39m\u001b[38;5;241m.\u001b[39mreturnFormat\n\u001b[1;32m    928\u001b[0m \u001b[38;5;28;01mexcept\u001b[39;00m urllib\u001b[38;5;241m.\u001b[39merror\u001b[38;5;241m.\u001b[39mHTTPError \u001b[38;5;28;01mas\u001b[39;00m e:\n",
      "File \u001b[0;32m/opt/homebrew/Cellar/python@3.12/3.12.11/Frameworks/Python.framework/Versions/3.12/lib/python3.12/urllib/request.py:215\u001b[0m, in \u001b[0;36murlopen\u001b[0;34m(url, data, timeout, cafile, capath, cadefault, context)\u001b[0m\n\u001b[1;32m    213\u001b[0m \u001b[38;5;28;01melse\u001b[39;00m:\n\u001b[1;32m    214\u001b[0m     opener \u001b[38;5;241m=\u001b[39m _opener\n\u001b[0;32m--> 215\u001b[0m \u001b[38;5;28;01mreturn\u001b[39;00m \u001b[43mopener\u001b[49m\u001b[38;5;241;43m.\u001b[39;49m\u001b[43mopen\u001b[49m\u001b[43m(\u001b[49m\u001b[43murl\u001b[49m\u001b[43m,\u001b[49m\u001b[43m \u001b[49m\u001b[43mdata\u001b[49m\u001b[43m,\u001b[49m\u001b[43m \u001b[49m\u001b[43mtimeout\u001b[49m\u001b[43m)\u001b[49m\n",
      "File \u001b[0;32m/opt/homebrew/Cellar/python@3.12/3.12.11/Frameworks/Python.framework/Versions/3.12/lib/python3.12/urllib/request.py:515\u001b[0m, in \u001b[0;36mOpenerDirector.open\u001b[0;34m(self, fullurl, data, timeout)\u001b[0m\n\u001b[1;32m    512\u001b[0m     req \u001b[38;5;241m=\u001b[39m meth(req)\n\u001b[1;32m    514\u001b[0m sys\u001b[38;5;241m.\u001b[39maudit(\u001b[38;5;124m'\u001b[39m\u001b[38;5;124murllib.Request\u001b[39m\u001b[38;5;124m'\u001b[39m, req\u001b[38;5;241m.\u001b[39mfull_url, req\u001b[38;5;241m.\u001b[39mdata, req\u001b[38;5;241m.\u001b[39mheaders, req\u001b[38;5;241m.\u001b[39mget_method())\n\u001b[0;32m--> 515\u001b[0m response \u001b[38;5;241m=\u001b[39m \u001b[38;5;28;43mself\u001b[39;49m\u001b[38;5;241;43m.\u001b[39;49m\u001b[43m_open\u001b[49m\u001b[43m(\u001b[49m\u001b[43mreq\u001b[49m\u001b[43m,\u001b[49m\u001b[43m \u001b[49m\u001b[43mdata\u001b[49m\u001b[43m)\u001b[49m\n\u001b[1;32m    517\u001b[0m \u001b[38;5;66;03m# post-process response\u001b[39;00m\n\u001b[1;32m    518\u001b[0m meth_name \u001b[38;5;241m=\u001b[39m protocol\u001b[38;5;241m+\u001b[39m\u001b[38;5;124m\"\u001b[39m\u001b[38;5;124m_response\u001b[39m\u001b[38;5;124m\"\u001b[39m\n",
      "File \u001b[0;32m/opt/homebrew/Cellar/python@3.12/3.12.11/Frameworks/Python.framework/Versions/3.12/lib/python3.12/urllib/request.py:532\u001b[0m, in \u001b[0;36mOpenerDirector._open\u001b[0;34m(self, req, data)\u001b[0m\n\u001b[1;32m    529\u001b[0m     \u001b[38;5;28;01mreturn\u001b[39;00m result\n\u001b[1;32m    531\u001b[0m protocol \u001b[38;5;241m=\u001b[39m req\u001b[38;5;241m.\u001b[39mtype\n\u001b[0;32m--> 532\u001b[0m result \u001b[38;5;241m=\u001b[39m \u001b[38;5;28;43mself\u001b[39;49m\u001b[38;5;241;43m.\u001b[39;49m\u001b[43m_call_chain\u001b[49m\u001b[43m(\u001b[49m\u001b[38;5;28;43mself\u001b[39;49m\u001b[38;5;241;43m.\u001b[39;49m\u001b[43mhandle_open\u001b[49m\u001b[43m,\u001b[49m\u001b[43m \u001b[49m\u001b[43mprotocol\u001b[49m\u001b[43m,\u001b[49m\u001b[43m \u001b[49m\u001b[43mprotocol\u001b[49m\u001b[43m \u001b[49m\u001b[38;5;241;43m+\u001b[39;49m\n\u001b[1;32m    533\u001b[0m \u001b[43m                          \u001b[49m\u001b[38;5;124;43m'\u001b[39;49m\u001b[38;5;124;43m_open\u001b[39;49m\u001b[38;5;124;43m'\u001b[39;49m\u001b[43m,\u001b[49m\u001b[43m \u001b[49m\u001b[43mreq\u001b[49m\u001b[43m)\u001b[49m\n\u001b[1;32m    534\u001b[0m \u001b[38;5;28;01mif\u001b[39;00m result:\n\u001b[1;32m    535\u001b[0m     \u001b[38;5;28;01mreturn\u001b[39;00m result\n",
      "File \u001b[0;32m/opt/homebrew/Cellar/python@3.12/3.12.11/Frameworks/Python.framework/Versions/3.12/lib/python3.12/urllib/request.py:492\u001b[0m, in \u001b[0;36mOpenerDirector._call_chain\u001b[0;34m(self, chain, kind, meth_name, *args)\u001b[0m\n\u001b[1;32m    490\u001b[0m \u001b[38;5;28;01mfor\u001b[39;00m handler \u001b[38;5;129;01min\u001b[39;00m handlers:\n\u001b[1;32m    491\u001b[0m     func \u001b[38;5;241m=\u001b[39m \u001b[38;5;28mgetattr\u001b[39m(handler, meth_name)\n\u001b[0;32m--> 492\u001b[0m     result \u001b[38;5;241m=\u001b[39m \u001b[43mfunc\u001b[49m\u001b[43m(\u001b[49m\u001b[38;5;241;43m*\u001b[39;49m\u001b[43margs\u001b[49m\u001b[43m)\u001b[49m\n\u001b[1;32m    493\u001b[0m     \u001b[38;5;28;01mif\u001b[39;00m result \u001b[38;5;129;01mis\u001b[39;00m \u001b[38;5;129;01mnot\u001b[39;00m \u001b[38;5;28;01mNone\u001b[39;00m:\n\u001b[1;32m    494\u001b[0m         \u001b[38;5;28;01mreturn\u001b[39;00m result\n",
      "File \u001b[0;32m/opt/homebrew/Cellar/python@3.12/3.12.11/Frameworks/Python.framework/Versions/3.12/lib/python3.12/urllib/request.py:1373\u001b[0m, in \u001b[0;36mHTTPHandler.http_open\u001b[0;34m(self, req)\u001b[0m\n\u001b[1;32m   1372\u001b[0m \u001b[38;5;28;01mdef\u001b[39;00m \u001b[38;5;21mhttp_open\u001b[39m(\u001b[38;5;28mself\u001b[39m, req):\n\u001b[0;32m-> 1373\u001b[0m     \u001b[38;5;28;01mreturn\u001b[39;00m \u001b[38;5;28;43mself\u001b[39;49m\u001b[38;5;241;43m.\u001b[39;49m\u001b[43mdo_open\u001b[49m\u001b[43m(\u001b[49m\u001b[43mhttp\u001b[49m\u001b[38;5;241;43m.\u001b[39;49m\u001b[43mclient\u001b[49m\u001b[38;5;241;43m.\u001b[39;49m\u001b[43mHTTPConnection\u001b[49m\u001b[43m,\u001b[49m\u001b[43m \u001b[49m\u001b[43mreq\u001b[49m\u001b[43m)\u001b[49m\n",
      "File \u001b[0;32m/opt/homebrew/Cellar/python@3.12/3.12.11/Frameworks/Python.framework/Versions/3.12/lib/python3.12/urllib/request.py:1347\u001b[0m, in \u001b[0;36mAbstractHTTPHandler.do_open\u001b[0;34m(self, http_class, req, **http_conn_args)\u001b[0m\n\u001b[1;32m   1344\u001b[0m         h\u001b[38;5;241m.\u001b[39mrequest(req\u001b[38;5;241m.\u001b[39mget_method(), req\u001b[38;5;241m.\u001b[39mselector, req\u001b[38;5;241m.\u001b[39mdata, headers,\n\u001b[1;32m   1345\u001b[0m                   encode_chunked\u001b[38;5;241m=\u001b[39mreq\u001b[38;5;241m.\u001b[39mhas_header(\u001b[38;5;124m'\u001b[39m\u001b[38;5;124mTransfer-encoding\u001b[39m\u001b[38;5;124m'\u001b[39m))\n\u001b[1;32m   1346\u001b[0m     \u001b[38;5;28;01mexcept\u001b[39;00m \u001b[38;5;167;01mOSError\u001b[39;00m \u001b[38;5;28;01mas\u001b[39;00m err: \u001b[38;5;66;03m# timeout error\u001b[39;00m\n\u001b[0;32m-> 1347\u001b[0m         \u001b[38;5;28;01mraise\u001b[39;00m URLError(err)\n\u001b[1;32m   1348\u001b[0m     r \u001b[38;5;241m=\u001b[39m h\u001b[38;5;241m.\u001b[39mgetresponse()\n\u001b[1;32m   1349\u001b[0m \u001b[38;5;28;01mexcept\u001b[39;00m:\n",
      "\u001b[0;31mURLError\u001b[0m: <urlopen error [Errno 61] Connection refused>"
     ]
    }
   ],
   "source": [
    "sparql_wrapper = SPARQLWrapper(\"http://127.0.0.1:8000/\")\n",
    "sparql_wrapper.setReturnFormat(JSON)\n",
    "sparql_wrapper.setQuery(\"\"\"\n",
    "    PREFIX cto: <https://nfdi4culture.de/ontology#>\n",
    "    PREFIX skos: <http://www.w3.org/2004/02/skos/core#>\n",
    "\n",
    "    SELECT ?iconclass ?resource ?resourceLabel ?target\n",
    "    WHERE {\n",
    "        ?iconclass skos:relatedMatch ?target .\n",
    "        \n",
    "        SERVICE <https://nfdi4culture.de/sparql> {\n",
    "            ?resource cto:subjectConcept ?iconclass .\n",
    "            OPTIONAL { ?resource rdfs:label ?resourceLabel . }\n",
    "        }\n",
    "    }\n",
    "    LIMIT 5\n",
    "    \"\"\"\n",
    ")\n",
    "print(sparql_wrapper.queryAndConvert())"
   ]
  },
  {
   "cell_type": "code",
   "execution_count": null,
   "id": "1ec3dd88-91a2-413b-9f4c-1b099edc6e70",
   "metadata": {},
   "outputs": [],
   "source": [
    "\n",
    "\n",
    "\n",
    "\n",
    "\"\"\" SERVICE <https://search.nfdi4chem.de/sparql> {} \"\"\"\n",
    "sparql = \"\"\"\\\n",
    "PREFIX cto: <https://nfdi4culture.de/ontology#>\n",
    "PREFIX skos: <http://www.w3.org/2004/02/skos/core#>\n",
    "\n",
    "\n",
    "SELECT *\n",
    "WHERE {\n",
    "    ?resource cto:subjectConcept ?iconclass .\n",
    "    OPTIONAL { ?resource rdfs:label ?resourceLabel . }\n",
    "\n",
    "    ?iconclass skos:relatedMatch ?target .\n",
    "\n",
    "    SERVICE <https://nfdi4culture.de/sparql> {\n",
    "      \n",
    "    }\n",
    "}\n",
    "LIMIT 5\n",
    "\"\"\"\n",
    "import urllib.error\n",
    "try:\n",
    "    records = graph.query(sparql)\n",
    "    click.echo(tabulate(records))\n",
    "except urllib.error.HTTPError as e:\n",
    "    print(type(e))\n",
    "    print(e.url)\n",
    "    print(e.code)\n",
    "    print(e.headers)\n",
    "    print(dir(e.fp)    )"
   ]
  }
 ],
 "metadata": {
  "kernelspec": {
   "display_name": "Python 3 (ipykernel)",
   "language": "python",
   "name": "python3"
  },
  "language_info": {
   "codemirror_mode": {
    "name": "ipython",
    "version": 3
   },
   "file_extension": ".py",
   "mimetype": "text/x-python",
   "name": "python",
   "nbconvert_exporter": "python",
   "pygments_lexer": "ipython3",
   "version": "3.12.11"
  }
 },
 "nbformat": 4,
 "nbformat_minor": 5
}

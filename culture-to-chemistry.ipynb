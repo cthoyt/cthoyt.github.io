{
 "cells": [
  {
   "cell_type": "code",
   "execution_count": null,
   "id": "4897d66f-1d2c-43c2-a991-6f229cd37fd5",
   "metadata": {},
   "outputs": [],
   "source": [
    "import click\n",
    "import pystow\n",
    "import rdflib\n",
    "import sssom\n",
    "from curies.dataframe import filter_df_by_prefixes\n",
    "from tabulate import tabulate\n",
    "from biomappings.resources import POSITIVES_SSSOM_PATH\n",
    "import bioregistry\n",
    "from SPARQLWrapper import SPARQLWrapper, JSON"
   ]
  },
  {
   "cell_type": "code",
   "execution_count": null,
   "id": "a665bae3-a13e-44a5-a9c9-99d99ab3f618",
   "metadata": {},
   "outputs": [
    {
     "name": "stderr",
     "output_type": "stream",
     "text": [
      "/Users/cthoyt/dev/sssom-py/src/sssom/util.py:184: FutureWarning: Downcasting behavior in `replace` is deprecated and will be removed in a future version. To retain the old behavior, explicitly call `result.infer_objects(copy=False)`. To opt-in to the future behavior, set `pd.set_option('future.no_silent_downcasting', True)`\n",
      "  df.replace(\"\", np.nan, inplace=True)\n",
      "WARNING:linkml_runtime.Namespaces:adw namespace is already mapped to http://purl.obolibrary.org/obo/ADW_ - Overriding with mapping to https://animaldiversity.org/accounts/\n",
      "WARNING:linkml_runtime.Namespaces:bila namespace is already mapped to http://purl.obolibrary.org/obo/BILA_ - Overriding with mapping to http://4dx.embl.de/4DXpress/reg/all/cview/gene.do?geneID=\n",
      "WARNING:linkml_runtime.Namespaces:dc namespace is already mapped to http://purl.org/dc/terms/ - Overriding with mapping to http://purl.org/dc/elements/1.1/\n",
      "WARNING:linkml_runtime.Namespaces:ev namespace is already mapped to http://purl.obolibrary.org/obo/EV_ - Overriding with mapping to http://www.evocontology.org/site/Main/BrowseEvoc?x_termid=\n",
      "WARNING:linkml_runtime.Namespaces:exo namespace is already mapped to http://purl.obolibrary.org/obo/EXO_ - Overriding with mapping to http://purl.obolibrary.org/obo/ExO_\n",
      "WARNING:linkml_runtime.Namespaces:fma namespace is already mapped to http://purl.obolibrary.org/obo/FMA_ - Overriding with mapping to https://www.ebi.ac.uk/ols4/ontologies/fma/terms?obo_id=FMA:\n",
      "WARNING:linkml_runtime.Namespaces:geo namespace is already mapped to http://purl.obolibrary.org/obo/GEO_ - Overriding with mapping to https://www.ncbi.nlm.nih.gov/geo/query/acc.cgi?acc=\n",
      "WARNING:linkml_runtime.Namespaces:gro namespace is already mapped to http://purl.obolibrary.org/obo/GRO_ - Overriding with mapping to http://www.bootstrep.eu/ontology/GRO#\n",
      "WARNING:linkml_runtime.Namespaces:hsapdv namespace is already mapped to http://purl.obolibrary.org/obo/HSAPDV_ - Overriding with mapping to http://purl.obolibrary.org/obo/HsapDv_\n",
      "WARNING:linkml_runtime.Namespaces:idot namespace is already mapped to http://identifiers.org/ - Overriding with mapping to https://biomodels.net/vocab/idot.rdf#\n",
      "WARNING:linkml_runtime.Namespaces:iev namespace is already mapped to http://purl.obolibrary.org/obo/IEV_ - Overriding with mapping to http://www.inoh.org/ontology-viewer/cgi-bin/InohOVAttr.php?type=IEV&id=\n",
      "WARNING:linkml_runtime.Namespaces:imr namespace is already mapped to http://purl.obolibrary.org/obo/IMR_ - Overriding with mapping to http://www.inoh.org/ontology-viewer/cgi-bin/InohOVAttr.php?type=IMR&id=\n",
      "WARNING:linkml_runtime.Namespaces:mamo namespace is already mapped to http://purl.obolibrary.org/obo/MAMO_ - Overriding with mapping to http://bioportal.bioontology.org/ontologies/MAMO/?p=classes&conceptid=http://identifiers.org/mamo/MAMO_\n",
      "WARNING:linkml_runtime.Namespaces:mmusdv namespace is already mapped to http://purl.obolibrary.org/obo/MMUSDV_ - Overriding with mapping to http://purl.obolibrary.org/obo/MmusDv_\n",
      "WARNING:linkml_runtime.Namespaces:mo namespace is already mapped to http://purl.obolibrary.org/obo/MO_ - Overriding with mapping to https://mged.sourceforge.net/ontologies/MGEDontology.php#\n",
      "WARNING:linkml_runtime.Namespaces:nmr namespace is already mapped to http://purl.obolibrary.org/obo/NMR_ - Overriding with mapping to https://www.ebi.ac.uk/ols4/ontologies/nmrcv/terms?curie=NMR:\n",
      "WARNING:linkml_runtime.Namespaces:olatdv namespace is already mapped to http://purl.obolibrary.org/obo/OLATDV_ - Overriding with mapping to http://purl.obolibrary.org/obo/OlatDv_\n",
      "WARNING:linkml_runtime.Namespaces:pdumdv namespace is already mapped to http://purl.obolibrary.org/obo/PDUMDV_ - Overriding with mapping to http://purl.obolibrary.org/obo/PdumDv_\n",
      "WARNING:linkml_runtime.Namespaces:peco namespace is already mapped to http://purl.obolibrary.org/obo/PECO_ - Overriding with mapping to https://browser.planteome.org/amigo/term/PECO:\n",
      "WARNING:linkml_runtime.Namespaces:resid namespace is already mapped to http://purl.obolibrary.org/obo/RESID_ - Overriding with mapping to https://proteininformationresource.org/cgi-bin/resid?id=\n",
      "WARNING:linkml_runtime.Namespaces:sao namespace is already mapped to http://purl.obolibrary.org/obo/SAO_ - Overriding with mapping to http://uri.neuinfo.org/nif/nifstd/sao\n",
      "WARNING:linkml_runtime.Namespaces:vario namespace is already mapped to http://purl.obolibrary.org/obo/VARIO_ - Overriding with mapping to http://purl.obolibrary.org/obo/VariO_\n",
      "WARNING:linkml_runtime.Namespaces:wbbt namespace is already mapped to http://purl.obolibrary.org/obo/WBBT_ - Overriding with mapping to http://purl.obolibrary.org/obo/WBbt_\n",
      "WARNING:linkml_runtime.Namespaces:wbls namespace is already mapped to http://purl.obolibrary.org/obo/WBLS_ - Overriding with mapping to http://purl.obolibrary.org/obo/WBls_\n"
     ]
    },
    {
     "name": "stdout",
     "output_type": "stream",
     "text": [
      "[a rdfg:Graph;rdflib:storage [a rdflib:Store;rdfs:label 'Memory']].\n"
     ]
    }
   ],
   "source": [
    "path = pystow.join(\"nfdi\", name=\"chem-culture.sssom.ttl\")\n",
    "msdf = sssom.parse_sssom_table(POSITIVES_SSSOM_PATH, prefix_map=bioregistry.get_default_converter())\n",
    "# only keep iconclass mappings\n",
    "msdf.df = filter_df_by_prefixes(msdf.df, column=\"subject_id\", prefixes=[\"iconclass\"])\n",
    "sssom.write_rdf(msdf, path, hydrate=True)\n",
    "\n",
    "graph = rdflib.Graph()\n",
    "graph.parse(path)\n",
    "\n",
    "print(graph)"
   ]
  },
  {
   "cell_type": "code",
   "execution_count": 6,
   "id": "477d291a-9ff6-4f53-9a26-3f10d1dc6ffc",
   "metadata": {},
   "outputs": [
    {
     "name": "stdout",
     "output_type": "stream",
     "text": [
      "(rdflib.term.URIRef('https://iconclass.org/24C31'), rdflib.term.URIRef('http://purl.obolibrary.org/obo/CHEBI_29287'))\n",
      "(rdflib.term.URIRef('https://iconclass.org/11H%28ANTONY%20ABBOT%29411'), rdflib.term.URIRef('http://purl.obolibrary.org/obo/CHEBI_29287'))\n",
      "(rdflib.term.URIRef('https://iconclass.org/22C4%28GOLD%29'), rdflib.term.URIRef('http://purl.obolibrary.org/obo/CHEBI_29287'))\n",
      "(rdflib.term.URIRef('https://iconclass.org/25D13%28GOLD%29'), rdflib.term.URIRef('http://purl.obolibrary.org/obo/CHEBI_29287'))\n",
      "(rdflib.term.URIRef('https://iconclass.org/46B332'), rdflib.term.URIRef('http://purl.obolibrary.org/obo/CHEBI_29287'))\n",
      "(rdflib.term.URIRef('https://iconclass.org/49E3911'), rdflib.term.URIRef('http://purl.obolibrary.org/obo/CHEBI_29287'))\n",
      "(rdflib.term.URIRef('https://iconclass.org/71I423'), rdflib.term.URIRef('http://purl.obolibrary.org/obo/CHEBI_29287'))\n",
      "(rdflib.term.URIRef('https://iconclass.org/94E231'), rdflib.term.URIRef('http://purl.obolibrary.org/obo/CHEBI_29287'))\n",
      "(rdflib.term.URIRef('https://iconclass.org/94G42'), rdflib.term.URIRef('http://purl.obolibrary.org/obo/CHEBI_29287'))\n",
      "(rdflib.term.URIRef('https://iconclass.org/24C32'), rdflib.term.URIRef('http://purl.obolibrary.org/obo/CHEBI_30512'))\n",
      "(rdflib.term.URIRef('https://iconclass.org/25D13%28SILVER%29'), rdflib.term.URIRef('http://purl.obolibrary.org/obo/CHEBI_30512'))\n",
      "(rdflib.term.URIRef('https://iconclass.org/71C13211'), rdflib.term.URIRef('http://purl.obolibrary.org/obo/CHEBI_30512'))\n",
      "(rdflib.term.URIRef('https://iconclass.org/71D1252'), rdflib.term.URIRef('http://purl.obolibrary.org/obo/CHEBI_30512'))\n",
      "(rdflib.term.URIRef('https://iconclass.org/71D191'), rdflib.term.URIRef('http://purl.obolibrary.org/obo/CHEBI_30512'))\n",
      "(rdflib.term.URIRef('https://iconclass.org/24C33'), rdflib.term.URIRef('http://purl.obolibrary.org/obo/CHEBI_25195'))\n",
      "(rdflib.term.URIRef('https://iconclass.org/25D13%28MERCURY%29'), rdflib.term.URIRef('http://purl.obolibrary.org/obo/CHEBI_25195'))\n",
      "(rdflib.term.URIRef('https://iconclass.org/49E3942'), rdflib.term.URIRef('http://purl.obolibrary.org/obo/CHEBI_25195'))\n",
      "(rdflib.term.URIRef('https://iconclass.org/24C34'), rdflib.term.URIRef('http://purl.obolibrary.org/obo/CHEBI_28694'))\n",
      "(rdflib.term.URIRef('https://iconclass.org/25D13%28COPPER%29'), rdflib.term.URIRef('http://purl.obolibrary.org/obo/CHEBI_28694'))\n",
      "(rdflib.term.URIRef('https://iconclass.org/48A98k6121'), rdflib.term.URIRef('http://purl.obolibrary.org/obo/CHEBI_28694'))\n",
      "(rdflib.term.URIRef('https://iconclass.org/48k6121'), rdflib.term.URIRef('http://purl.obolibrary.org/obo/CHEBI_28694'))\n",
      "(rdflib.term.URIRef('https://iconclass.org/24C35'), rdflib.term.URIRef('http://purl.obolibrary.org/obo/CHEBI_18248'))\n",
      "(rdflib.term.URIRef('https://iconclass.org/25D13%28IRON%29'), rdflib.term.URIRef('http://purl.obolibrary.org/obo/CHEBI_18248'))\n",
      "(rdflib.term.URIRef('https://iconclass.org/24C36'), rdflib.term.URIRef('http://purl.obolibrary.org/obo/CHEBI_27007'))\n",
      "(rdflib.term.URIRef('https://iconclass.org/25D13%28TIN%29'), rdflib.term.URIRef('http://purl.obolibrary.org/obo/CHEBI_27007'))\n",
      "(rdflib.term.URIRef('https://iconclass.org/25D13%28SULPHUR%29'), rdflib.term.URIRef('http://purl.obolibrary.org/obo/CHEBI_26833'))\n",
      "(rdflib.term.URIRef('https://iconclass.org/49E3941'), rdflib.term.URIRef('http://purl.obolibrary.org/obo/CHEBI_26833'))\n",
      "(rdflib.term.URIRef('https://iconclass.org/41B14'), rdflib.term.URIRef('http://purl.obolibrary.org/obo/CHMO_0010008'))\n",
      "(rdflib.term.URIRef('https://iconclass.org/41B52'), rdflib.term.URIRef('http://purl.obolibrary.org/obo/CHMO_0010008'))\n",
      "(rdflib.term.URIRef('https://iconclass.org/41B524'), rdflib.term.URIRef('http://purl.obolibrary.org/obo/CHMO_0010008'))\n",
      "(rdflib.term.URIRef('https://iconclass.org/41D2321'), rdflib.term.URIRef('http://purl.obolibrary.org/obo/OBI_0002797'))\n",
      "(rdflib.term.URIRef('https://iconclass.org/46B33'), rdflib.term.URIRef('http://purl.obolibrary.org/obo/CHMO_0002827'))\n",
      "(rdflib.term.URIRef('https://iconclass.org/46B331'), rdflib.term.URIRef('http://purl.obolibrary.org/obo/CHMO_0002827'))\n",
      "(rdflib.term.URIRef('https://iconclass.org/47C1211'), rdflib.term.URIRef('http://purl.obolibrary.org/obo/CHMO_0001682'))\n",
      "(rdflib.term.URIRef('https://iconclass.org/47C124'), rdflib.term.URIRef('http://purl.obolibrary.org/obo/CHMO_0001549'))\n",
      "(rdflib.term.URIRef('https://iconclass.org/47C61'), rdflib.term.URIRef('http://purl.obolibrary.org/obo/CHMO_0001685'))\n",
      "(rdflib.term.URIRef('https://iconclass.org/47C621'), rdflib.term.URIRef('http://purl.obolibrary.org/obo/CHMO_0001427'))\n",
      "(rdflib.term.URIRef('https://iconclass.org/48A98k6123'), rdflib.term.URIRef('http://purl.obolibrary.org/obo/CHEBI_27363'))\n",
      "(rdflib.term.URIRef('https://iconclass.org/48k6123'), rdflib.term.URIRef('http://purl.obolibrary.org/obo/CHEBI_27363'))\n",
      "(rdflib.term.URIRef('https://iconclass.org/48C3522'), rdflib.term.URIRef('http://purl.obolibrary.org/obo/CHMO_0001558'))\n",
      "(rdflib.term.URIRef('https://iconclass.org/49D521'), rdflib.term.URIRef('http://purl.obolibrary.org/obo/OBI_0000832'))\n",
      "(rdflib.term.URIRef('https://iconclass.org/49E39542'), rdflib.term.URIRef('http://purl.obolibrary.org/obo/CHMO_0002208'))\n",
      "(rdflib.term.URIRef('https://iconclass.org/49G354'), rdflib.term.URIRef('http://purl.obolibrary.org/obo/OBI_0000105'))\n",
      "(rdflib.term.URIRef('https://iconclass.org/49G37'), rdflib.term.URIRef('http://purl.obolibrary.org/obo/OBI_0000426'))\n",
      "(rdflib.term.URIRef('https://iconclass.org/49G621'), rdflib.term.URIRef('http://purl.obolibrary.org/obo/CHMO_0001528'))\n",
      "(rdflib.term.URIRef('https://iconclass.org/49G831'), rdflib.term.URIRef('http://purl.obolibrary.org/obo/OBI_0003707'))\n",
      "(rdflib.term.URIRef('https://iconclass.org/11H%28ANTONY%20ABBOT%29411'), rdflib.term.URIRef('http://purl.obolibrary.org/obo/CHEBI_30050'))\n",
      "(rdflib.term.URIRef('https://iconclass.org/22C4%28GOLD%29'), rdflib.term.URIRef('http://purl.obolibrary.org/obo/CHEBI_30050'))\n",
      "(rdflib.term.URIRef('https://iconclass.org/25D13%28GOLD%29'), rdflib.term.URIRef('http://purl.obolibrary.org/obo/CHEBI_30050'))\n",
      "(rdflib.term.URIRef('https://iconclass.org/46B332'), rdflib.term.URIRef('http://purl.obolibrary.org/obo/CHEBI_30050'))\n",
      "(rdflib.term.URIRef('https://iconclass.org/49E3911'), rdflib.term.URIRef('http://purl.obolibrary.org/obo/CHEBI_30050'))\n",
      "(rdflib.term.URIRef('https://iconclass.org/71I423'), rdflib.term.URIRef('http://purl.obolibrary.org/obo/CHEBI_30050'))\n",
      "(rdflib.term.URIRef('https://iconclass.org/94E231'), rdflib.term.URIRef('http://purl.obolibrary.org/obo/CHEBI_30050'))\n",
      "(rdflib.term.URIRef('https://iconclass.org/94G42'), rdflib.term.URIRef('http://purl.obolibrary.org/obo/CHEBI_30050'))\n",
      "(rdflib.term.URIRef('https://iconclass.org/46B331'), rdflib.term.URIRef('http://purl.obolibrary.org/obo/OBI_0001135'))\n",
      "(rdflib.term.URIRef('https://iconclass.org/49E2512'), rdflib.term.URIRef('http://purl.obolibrary.org/obo/CHMO_0000953'))\n",
      "(rdflib.term.URIRef('https://iconclass.org/49E2512'), rdflib.term.URIRef('http://purl.obolibrary.org/obo/OBI_0400169'))\n"
     ]
    }
   ],
   "source": [
    "from rdflib import SKOS\n",
    "for triple in graph.subject_objects(SKOS.relatedMatch):\n",
    "    print(triple)"
   ]
  },
  {
   "cell_type": "markdown",
   "id": "85e9fc96-14ca-41c4-9009-cce3773bc36a",
   "metadata": {},
   "source": [
    "Demonstrate doing a tiny query over the NFDI4Culture Graph"
   ]
  },
  {
   "cell_type": "code",
   "execution_count": 19,
   "id": "574737d1-3d50-4cf0-815c-9539201aa4b2",
   "metadata": {},
   "outputs": [
    {
     "name": "stdout",
     "output_type": "stream",
     "text": [
      "{'head': {'link': [], 'vars': ['resource', 'iconclass', 'resourceLabel']}, 'results': {'distinct': False, 'ordered': True, 'bindings': [{'resource': {'type': 'uri', 'value': 'http://www.bildindex.de/document/obj00000008'}, 'iconclass': {'type': 'uri', 'value': 'https://iconclass.org/25F62%28Herring%29'}, 'resourceLabel': {'type': 'literal', 'xml:lang': 'de', 'value': 'Lob des Herings'}}, {'resource': {'type': 'uri', 'value': 'http://www.bildindex.de/document/obj00000008'}, 'iconclass': {'type': 'uri', 'value': 'https://iconclass.org/41C6'}, 'resourceLabel': {'type': 'literal', 'xml:lang': 'de', 'value': 'Lob des Herings'}}, {'resource': {'type': 'uri', 'value': 'http://www.bildindex.de/document/obj00000008'}, 'iconclass': {'type': 'uri', 'value': 'https://iconclass.org/49MM32'}, 'resourceLabel': {'type': 'literal', 'xml:lang': 'de', 'value': 'Lob des Herings'}}, {'resource': {'type': 'uri', 'value': 'http://www.bildindex.de/document/obj00000008'}, 'iconclass': {'type': 'uri', 'value': 'https://iconclass.org/41E'}, 'resourceLabel': {'type': 'literal', 'xml:lang': 'de', 'value': 'Lob des Herings'}}, {'resource': {'type': 'uri', 'value': 'http://www.bildindex.de/document/obj00000008'}, 'iconclass': {'type': 'uri', 'value': 'https://iconclass.org/61B2%28Westerbaen%2C%20Jan%293'}, 'resourceLabel': {'type': 'literal', 'xml:lang': 'de', 'value': 'Lob des Herings'}}]}}\n"
     ]
    }
   ],
   "source": [
    "sparql_wrapper = SPARQLWrapper(\"https://nfdi4culture.de/sparql\")\n",
    "sparql_wrapper.setReturnFormat(JSON)\n",
    "sparql_wrapper.setQuery(\"\"\"\n",
    "    PREFIX cto: <https://nfdi4culture.de/ontology#>\n",
    "    SELECT *\n",
    "    WHERE {\n",
    "      ?resource cto:subjectConcept ?iconclass .\n",
    "      OPTIONAL { ?resource rdfs:label ?resourceLabel . }\n",
    "    }\n",
    "    LIMIT 5\n",
    "    \"\"\"\n",
    ")\n",
    "print(sparql_wrapper.queryAndConvert())"
   ]
  },
  {
   "cell_type": "code",
   "execution_count": 28,
   "id": "ca4f33c7-c0f2-41fd-84fc-c6dc2ce563a9",
   "metadata": {},
   "outputs": [
    {
     "ename": "HTTPError",
     "evalue": "HTTP Error 422: Unprocessable Entity",
     "output_type": "error",
     "traceback": [
      "\u001b[0;31m---------------------------------------------------------------------------\u001b[0m",
      "\u001b[0;31mHTTPError\u001b[0m                                 Traceback (most recent call last)",
      "Cell \u001b[0;32mIn[28], line 19\u001b[0m\n\u001b[1;32m      2\u001b[0m sparql_wrapper\u001b[38;5;241m.\u001b[39msetReturnFormat(JSON)\n\u001b[1;32m      3\u001b[0m sparql_wrapper\u001b[38;5;241m.\u001b[39msetQuery(\u001b[38;5;124m\"\"\"\u001b[39m\n\u001b[1;32m      4\u001b[0m \u001b[38;5;124m    PREFIX cto: <https://nfdi4culture.de/ontology#>\u001b[39m\n\u001b[1;32m      5\u001b[0m \u001b[38;5;124m    PREFIX skos: <http://www.w3.org/2004/02/skos/core#>\u001b[39m\n\u001b[0;32m   (...)\u001b[0m\n\u001b[1;32m     17\u001b[0m \u001b[38;5;124m    \u001b[39m\u001b[38;5;124m\"\"\"\u001b[39m\n\u001b[1;32m     18\u001b[0m )\n\u001b[0;32m---> 19\u001b[0m \u001b[38;5;28mprint\u001b[39m(\u001b[43msparql_wrapper\u001b[49m\u001b[38;5;241;43m.\u001b[39;49m\u001b[43mqueryAndConvert\u001b[49m\u001b[43m(\u001b[49m\u001b[43m)\u001b[49m)\n",
      "File \u001b[0;32m~/.virtualenvs/biopragmatics/lib/python3.12/site-packages/SPARQLWrapper/Wrapper.py:967\u001b[0m, in \u001b[0;36mSPARQLWrapper.queryAndConvert\u001b[0;34m(self)\u001b[0m\n\u001b[1;32m    962\u001b[0m \u001b[38;5;28;01mdef\u001b[39;00m \u001b[38;5;21mqueryAndConvert\u001b[39m(\u001b[38;5;28mself\u001b[39m) \u001b[38;5;241m-\u001b[39m\u001b[38;5;241m>\u001b[39m \u001b[38;5;124m\"\u001b[39m\u001b[38;5;124mQueryResult.ConvertResult\u001b[39m\u001b[38;5;124m\"\u001b[39m:\n\u001b[1;32m    963\u001b[0m \u001b[38;5;250m    \u001b[39m\u001b[38;5;124;03m\"\"\"Macro like method: issue a query and return the converted results.\u001b[39;00m\n\u001b[1;32m    964\u001b[0m \n\u001b[1;32m    965\u001b[0m \u001b[38;5;124;03m    :return: the converted query result. See the conversion methods for more details.\u001b[39;00m\n\u001b[1;32m    966\u001b[0m \u001b[38;5;124;03m    \"\"\"\u001b[39;00m\n\u001b[0;32m--> 967\u001b[0m     res \u001b[38;5;241m=\u001b[39m \u001b[38;5;28;43mself\u001b[39;49m\u001b[38;5;241;43m.\u001b[39;49m\u001b[43mquery\u001b[49m\u001b[43m(\u001b[49m\u001b[43m)\u001b[49m\n\u001b[1;32m    968\u001b[0m     \u001b[38;5;28;01mreturn\u001b[39;00m res\u001b[38;5;241m.\u001b[39mconvert()\n",
      "File \u001b[0;32m~/.virtualenvs/biopragmatics/lib/python3.12/site-packages/SPARQLWrapper/Wrapper.py:960\u001b[0m, in \u001b[0;36mSPARQLWrapper.query\u001b[0;34m(self)\u001b[0m\n\u001b[1;32m    942\u001b[0m \u001b[38;5;28;01mdef\u001b[39;00m \u001b[38;5;21mquery\u001b[39m(\u001b[38;5;28mself\u001b[39m) \u001b[38;5;241m-\u001b[39m\u001b[38;5;241m>\u001b[39m \u001b[38;5;124m\"\u001b[39m\u001b[38;5;124mQueryResult\u001b[39m\u001b[38;5;124m\"\u001b[39m:\n\u001b[1;32m    943\u001b[0m \u001b[38;5;250m    \u001b[39m\u001b[38;5;124;03m\"\"\"\u001b[39;00m\n\u001b[1;32m    944\u001b[0m \u001b[38;5;124;03m    Execute the query.\u001b[39;00m\n\u001b[1;32m    945\u001b[0m \u001b[38;5;124;03m    Exceptions can be raised if either the URI is wrong or the HTTP sends back an error (this is also the\u001b[39;00m\n\u001b[0;32m   (...)\u001b[0m\n\u001b[1;32m    958\u001b[0m \u001b[38;5;124;03m    :rtype: :class:`QueryResult` instance\u001b[39;00m\n\u001b[1;32m    959\u001b[0m \u001b[38;5;124;03m    \"\"\"\u001b[39;00m\n\u001b[0;32m--> 960\u001b[0m     \u001b[38;5;28;01mreturn\u001b[39;00m QueryResult(\u001b[38;5;28;43mself\u001b[39;49m\u001b[38;5;241;43m.\u001b[39;49m\u001b[43m_query\u001b[49m\u001b[43m(\u001b[49m\u001b[43m)\u001b[49m)\n",
      "File \u001b[0;32m~/.virtualenvs/biopragmatics/lib/python3.12/site-packages/SPARQLWrapper/Wrapper.py:940\u001b[0m, in \u001b[0;36mSPARQLWrapper._query\u001b[0;34m(self)\u001b[0m\n\u001b[1;32m    938\u001b[0m     \u001b[38;5;28;01mraise\u001b[39;00m EndPointInternalError(e\u001b[38;5;241m.\u001b[39mread())\n\u001b[1;32m    939\u001b[0m \u001b[38;5;28;01melse\u001b[39;00m:\n\u001b[0;32m--> 940\u001b[0m     \u001b[38;5;28;01mraise\u001b[39;00m e\n",
      "File \u001b[0;32m~/.virtualenvs/biopragmatics/lib/python3.12/site-packages/SPARQLWrapper/Wrapper.py:926\u001b[0m, in \u001b[0;36mSPARQLWrapper._query\u001b[0;34m(self)\u001b[0m\n\u001b[1;32m    924\u001b[0m         response \u001b[38;5;241m=\u001b[39m urlopener(request, timeout\u001b[38;5;241m=\u001b[39m\u001b[38;5;28mself\u001b[39m\u001b[38;5;241m.\u001b[39mtimeout)\n\u001b[1;32m    925\u001b[0m     \u001b[38;5;28;01melse\u001b[39;00m:\n\u001b[0;32m--> 926\u001b[0m         response \u001b[38;5;241m=\u001b[39m \u001b[43murlopener\u001b[49m\u001b[43m(\u001b[49m\u001b[43mrequest\u001b[49m\u001b[43m)\u001b[49m\n\u001b[1;32m    927\u001b[0m     \u001b[38;5;28;01mreturn\u001b[39;00m response, \u001b[38;5;28mself\u001b[39m\u001b[38;5;241m.\u001b[39mreturnFormat\n\u001b[1;32m    928\u001b[0m \u001b[38;5;28;01mexcept\u001b[39;00m urllib\u001b[38;5;241m.\u001b[39merror\u001b[38;5;241m.\u001b[39mHTTPError \u001b[38;5;28;01mas\u001b[39;00m e:\n",
      "File \u001b[0;32m/opt/homebrew/Cellar/python@3.12/3.12.11/Frameworks/Python.framework/Versions/3.12/lib/python3.12/urllib/request.py:215\u001b[0m, in \u001b[0;36murlopen\u001b[0;34m(url, data, timeout, cafile, capath, cadefault, context)\u001b[0m\n\u001b[1;32m    213\u001b[0m \u001b[38;5;28;01melse\u001b[39;00m:\n\u001b[1;32m    214\u001b[0m     opener \u001b[38;5;241m=\u001b[39m _opener\n\u001b[0;32m--> 215\u001b[0m \u001b[38;5;28;01mreturn\u001b[39;00m \u001b[43mopener\u001b[49m\u001b[38;5;241;43m.\u001b[39;49m\u001b[43mopen\u001b[49m\u001b[43m(\u001b[49m\u001b[43murl\u001b[49m\u001b[43m,\u001b[49m\u001b[43m \u001b[49m\u001b[43mdata\u001b[49m\u001b[43m,\u001b[49m\u001b[43m \u001b[49m\u001b[43mtimeout\u001b[49m\u001b[43m)\u001b[49m\n",
      "File \u001b[0;32m/opt/homebrew/Cellar/python@3.12/3.12.11/Frameworks/Python.framework/Versions/3.12/lib/python3.12/urllib/request.py:521\u001b[0m, in \u001b[0;36mOpenerDirector.open\u001b[0;34m(self, fullurl, data, timeout)\u001b[0m\n\u001b[1;32m    519\u001b[0m \u001b[38;5;28;01mfor\u001b[39;00m processor \u001b[38;5;129;01min\u001b[39;00m \u001b[38;5;28mself\u001b[39m\u001b[38;5;241m.\u001b[39mprocess_response\u001b[38;5;241m.\u001b[39mget(protocol, []):\n\u001b[1;32m    520\u001b[0m     meth \u001b[38;5;241m=\u001b[39m \u001b[38;5;28mgetattr\u001b[39m(processor, meth_name)\n\u001b[0;32m--> 521\u001b[0m     response \u001b[38;5;241m=\u001b[39m \u001b[43mmeth\u001b[49m\u001b[43m(\u001b[49m\u001b[43mreq\u001b[49m\u001b[43m,\u001b[49m\u001b[43m \u001b[49m\u001b[43mresponse\u001b[49m\u001b[43m)\u001b[49m\n\u001b[1;32m    523\u001b[0m \u001b[38;5;28;01mreturn\u001b[39;00m response\n",
      "File \u001b[0;32m/opt/homebrew/Cellar/python@3.12/3.12.11/Frameworks/Python.framework/Versions/3.12/lib/python3.12/urllib/request.py:630\u001b[0m, in \u001b[0;36mHTTPErrorProcessor.http_response\u001b[0;34m(self, request, response)\u001b[0m\n\u001b[1;32m    627\u001b[0m \u001b[38;5;66;03m# According to RFC 2616, \"2xx\" code indicates that the client's\u001b[39;00m\n\u001b[1;32m    628\u001b[0m \u001b[38;5;66;03m# request was successfully received, understood, and accepted.\u001b[39;00m\n\u001b[1;32m    629\u001b[0m \u001b[38;5;28;01mif\u001b[39;00m \u001b[38;5;129;01mnot\u001b[39;00m (\u001b[38;5;241m200\u001b[39m \u001b[38;5;241m<\u001b[39m\u001b[38;5;241m=\u001b[39m code \u001b[38;5;241m<\u001b[39m \u001b[38;5;241m300\u001b[39m):\n\u001b[0;32m--> 630\u001b[0m     response \u001b[38;5;241m=\u001b[39m \u001b[38;5;28;43mself\u001b[39;49m\u001b[38;5;241;43m.\u001b[39;49m\u001b[43mparent\u001b[49m\u001b[38;5;241;43m.\u001b[39;49m\u001b[43merror\u001b[49m\u001b[43m(\u001b[49m\n\u001b[1;32m    631\u001b[0m \u001b[43m        \u001b[49m\u001b[38;5;124;43m'\u001b[39;49m\u001b[38;5;124;43mhttp\u001b[39;49m\u001b[38;5;124;43m'\u001b[39;49m\u001b[43m,\u001b[49m\u001b[43m \u001b[49m\u001b[43mrequest\u001b[49m\u001b[43m,\u001b[49m\u001b[43m \u001b[49m\u001b[43mresponse\u001b[49m\u001b[43m,\u001b[49m\u001b[43m \u001b[49m\u001b[43mcode\u001b[49m\u001b[43m,\u001b[49m\u001b[43m \u001b[49m\u001b[43mmsg\u001b[49m\u001b[43m,\u001b[49m\u001b[43m \u001b[49m\u001b[43mhdrs\u001b[49m\u001b[43m)\u001b[49m\n\u001b[1;32m    633\u001b[0m \u001b[38;5;28;01mreturn\u001b[39;00m response\n",
      "File \u001b[0;32m/opt/homebrew/Cellar/python@3.12/3.12.11/Frameworks/Python.framework/Versions/3.12/lib/python3.12/urllib/request.py:559\u001b[0m, in \u001b[0;36mOpenerDirector.error\u001b[0;34m(self, proto, *args)\u001b[0m\n\u001b[1;32m    557\u001b[0m \u001b[38;5;28;01mif\u001b[39;00m http_err:\n\u001b[1;32m    558\u001b[0m     args \u001b[38;5;241m=\u001b[39m (\u001b[38;5;28mdict\u001b[39m, \u001b[38;5;124m'\u001b[39m\u001b[38;5;124mdefault\u001b[39m\u001b[38;5;124m'\u001b[39m, \u001b[38;5;124m'\u001b[39m\u001b[38;5;124mhttp_error_default\u001b[39m\u001b[38;5;124m'\u001b[39m) \u001b[38;5;241m+\u001b[39m orig_args\n\u001b[0;32m--> 559\u001b[0m     \u001b[38;5;28;01mreturn\u001b[39;00m \u001b[38;5;28;43mself\u001b[39;49m\u001b[38;5;241;43m.\u001b[39;49m\u001b[43m_call_chain\u001b[49m\u001b[43m(\u001b[49m\u001b[38;5;241;43m*\u001b[39;49m\u001b[43margs\u001b[49m\u001b[43m)\u001b[49m\n",
      "File \u001b[0;32m/opt/homebrew/Cellar/python@3.12/3.12.11/Frameworks/Python.framework/Versions/3.12/lib/python3.12/urllib/request.py:492\u001b[0m, in \u001b[0;36mOpenerDirector._call_chain\u001b[0;34m(self, chain, kind, meth_name, *args)\u001b[0m\n\u001b[1;32m    490\u001b[0m \u001b[38;5;28;01mfor\u001b[39;00m handler \u001b[38;5;129;01min\u001b[39;00m handlers:\n\u001b[1;32m    491\u001b[0m     func \u001b[38;5;241m=\u001b[39m \u001b[38;5;28mgetattr\u001b[39m(handler, meth_name)\n\u001b[0;32m--> 492\u001b[0m     result \u001b[38;5;241m=\u001b[39m \u001b[43mfunc\u001b[49m\u001b[43m(\u001b[49m\u001b[38;5;241;43m*\u001b[39;49m\u001b[43margs\u001b[49m\u001b[43m)\u001b[49m\n\u001b[1;32m    493\u001b[0m     \u001b[38;5;28;01mif\u001b[39;00m result \u001b[38;5;129;01mis\u001b[39;00m \u001b[38;5;129;01mnot\u001b[39;00m \u001b[38;5;28;01mNone\u001b[39;00m:\n\u001b[1;32m    494\u001b[0m         \u001b[38;5;28;01mreturn\u001b[39;00m result\n",
      "File \u001b[0;32m/opt/homebrew/Cellar/python@3.12/3.12.11/Frameworks/Python.framework/Versions/3.12/lib/python3.12/urllib/request.py:639\u001b[0m, in \u001b[0;36mHTTPDefaultErrorHandler.http_error_default\u001b[0;34m(self, req, fp, code, msg, hdrs)\u001b[0m\n\u001b[1;32m    638\u001b[0m \u001b[38;5;28;01mdef\u001b[39;00m \u001b[38;5;21mhttp_error_default\u001b[39m(\u001b[38;5;28mself\u001b[39m, req, fp, code, msg, hdrs):\n\u001b[0;32m--> 639\u001b[0m     \u001b[38;5;28;01mraise\u001b[39;00m HTTPError(req\u001b[38;5;241m.\u001b[39mfull_url, code, msg, hdrs, fp)\n",
      "\u001b[0;31mHTTPError\u001b[0m: HTTP Error 422: Unprocessable Entity"
     ]
    }
   ],
   "source": [
    "sparql_wrapper = SPARQLWrapper(\"http://127.0.0.1:8000/\")\n",
    "sparql_wrapper.setReturnFormat(JSON)\n",
    "sparql_wrapper.setQuery(\"\"\"\n",
    "    PREFIX cto: <https://nfdi4culture.de/ontology#>\n",
    "    PREFIX skos: <http://www.w3.org/2004/02/skos/core#>\n",
    "\n",
    "    SELECT ?iconclass ?resource ?resourceLabel ?target\n",
    "    WHERE {\n",
    "        ?iconclass skos:relatedMatch ?target .\n",
    "        \n",
    "        SERVICE <https://nfdi4culture.de/sparql> {\n",
    "            ?resource cto:subjectConcept ?iconclass .\n",
    "            OPTIONAL { ?resource rdfs:label ?resourceLabel . }\n",
    "        }\n",
    "    }\n",
    "    LIMIT 5\n",
    "    \"\"\"\n",
    ")\n",
    "print(sparql_wrapper.queryAndConvert())"
   ]
  },
  {
   "cell_type": "code",
   "execution_count": 23,
   "id": "1ec3dd88-91a2-413b-9f4c-1b099edc6e70",
   "metadata": {},
   "outputs": [
    {
     "name": "stdout",
     "output_type": "stream",
     "text": [
      "<class 'urllib.error.HTTPError'>\n",
      "https://nfdi4culture.de/sparql\n",
      "500\n",
      "Date: Wed, 17 Sep 2025 17:49:21 GMT\n",
      "Server: Virtuoso/07.20.3240 (Linux) x86_64-ubuntu_focal-linux-gnu\n",
      "Strict-Transport-Security: max-age=63072000; includeSubDomains; preload\n",
      "Accept-Ranges: bytes\n",
      "Content-Type: text/plain; charset=UTF-8\n",
      "Content-Length: 2067\n",
      "Access-Control-Allow-Origin: *\n",
      "Access-Control-Allow-Methods: GET, OPTIONS\n",
      "Access-Control-Allow-Headers: Content-Type, Authorization\n",
      "Connection: close\n",
      "\n",
      "\n",
      "['__abstractmethods__', '__class__', '__del__', '__delattr__', '__dict__', '__dir__', '__doc__', '__enter__', '__eq__', '__exit__', '__format__', '__ge__', '__getattribute__', '__getstate__', '__gt__', '__hash__', '__init__', '__init_subclass__', '__iter__', '__le__', '__lt__', '__module__', '__ne__', '__new__', '__next__', '__reduce__', '__reduce_ex__', '__repr__', '__setattr__', '__sizeof__', '__str__', '__subclasshook__', '_abc_impl', '_checkClosed', '_checkReadable', '_checkSeekable', '_checkWritable', '_check_close', '_close_conn', '_get_chunk_left', '_method', '_peek_chunked', '_read1_chunked', '_read_and_discard_trailer', '_read_chunked', '_read_next_chunk_size', '_read_status', '_readinto_chunked', '_safe_read', '_safe_readinto', 'begin', 'chunk_left', 'chunked', 'close', 'closed', 'code', 'debuglevel', 'detach', 'fileno', 'flush', 'fp', 'getcode', 'getheader', 'getheaders', 'geturl', 'headers', 'info', 'isatty', 'isclosed', 'length', 'msg', 'peek', 'read', 'read1', 'readable', 'readinto', 'readinto1', 'readline', 'readlines', 'reason', 'seek', 'seekable', 'status', 'tell', 'truncate', 'url', 'version', 'will_close', 'writable', 'write', 'writelines']\n",
      "https://nfdi4culture.de/sparql\n"
     ]
    }
   ],
   "source": [
    "\n",
    "\n",
    "\n",
    "\n",
    "\"\"\" SERVICE <https://search.nfdi4chem.de/sparql> {} \"\"\"\n",
    "sparql = \"\"\"\\\n",
    "PREFIX cto: <https://nfdi4culture.de/ontology#>\n",
    "PREFIX skos: <http://www.w3.org/2004/02/skos/core#>\n",
    "\n",
    "\n",
    "SELECT *\n",
    "WHERE {\n",
    "    ?resource cto:subjectConcept ?iconclass .\n",
    "    OPTIONAL { ?resource rdfs:label ?resourceLabel . }\n",
    "\n",
    "    ?iconclass skos:relatedMatch ?target .\n",
    "\n",
    "    SERVICE <https://nfdi4culture.de/sparql> {\n",
    "      \n",
    "    }\n",
    "}\n",
    "LIMIT 5\n",
    "\"\"\"\n",
    "import urllib.error\n",
    "try:\n",
    "    records = graph.query(sparql)\n",
    "    click.echo(tabulate(records))\n",
    "except urllib.error.HTTPError as e:\n",
    "    print(type(e))\n",
    "    print(e.url)\n",
    "    print(e.code)\n",
    "    print(e.headers)\n",
    "    print(dir(e.fp)    )"
   ]
  }
 ],
 "metadata": {
  "kernelspec": {
   "display_name": "Python 3 (ipykernel)",
   "language": "python",
   "name": "python3"
  },
  "language_info": {
   "codemirror_mode": {
    "name": "ipython",
    "version": 3
   },
   "file_extension": ".py",
   "mimetype": "text/x-python",
   "name": "python",
   "nbconvert_exporter": "python",
   "pygments_lexer": "ipython3",
   "version": "3.12.11"
  }
 },
 "nbformat": 4,
 "nbformat_minor": 5
}
